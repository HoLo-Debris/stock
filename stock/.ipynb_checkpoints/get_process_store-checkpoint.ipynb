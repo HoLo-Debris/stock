{
 "cells": [
  {
   "cell_type": "code",
   "execution_count": 4,
   "id": "366a098f-8ecb-499e-8f1c-6a4045dc6a6f",
   "metadata": {},
   "outputs": [
    {
     "name": "stdout",
     "output_type": "stream",
     "text": [
      "1.2.84\n"
     ]
    }
   ],
   "source": [
    "import tushare\n",
    "# 使用测试，打印出版本号，成功导入这个包\n",
    "print(tushare.__version__)"
   ]
  },
  {
   "cell_type": "code",
   "execution_count": 9,
   "id": "55a2e9dd-9afb-41e2-81e3-f16ae296498d",
   "metadata": {},
   "outputs": [
    {
     "name": "stdout",
     "output_type": "stream",
     "text": [
      "      ts_code trade_date  open  high   low  close  pre_close  change  pct_chg  \\\n",
      "0   000001.SZ   20180718  8.75  8.85  8.69   8.70       8.72   -0.02    -0.23   \n",
      "1   000001.SZ   20180717  8.74  8.75  8.66   8.72       8.73   -0.01    -0.11   \n",
      "2   000001.SZ   20180716  8.85  8.90  8.69   8.73       8.88   -0.15    -1.69   \n",
      "3   000001.SZ   20180713  8.92  8.94  8.82   8.88       8.88    0.00     0.00   \n",
      "4   000001.SZ   20180712  8.60  8.97  8.58   8.88       8.64    0.24     2.78   \n",
      "5   000001.SZ   20180711  8.76  8.83  8.68   8.78       8.98   -0.20    -2.23   \n",
      "6   000001.SZ   20180710  9.02  9.02  8.89   8.98       9.03   -0.05    -0.55   \n",
      "7   000001.SZ   20180709  8.69  9.03  8.68   9.03       8.66    0.37     4.27   \n",
      "8   000001.SZ   20180706  8.61  8.78  8.45   8.66       8.60    0.06     0.70   \n",
      "9   000001.SZ   20180705  8.62  8.73  8.55   8.60       8.61   -0.01    -0.12   \n",
      "10  000001.SZ   20180704  8.63  8.75  8.61   8.61       8.67   -0.06    -0.69   \n",
      "11  000001.SZ   20180703  8.69  8.70  8.45   8.67       8.61    0.06     0.70   \n",
      "12  000001.SZ   20180702  9.05  9.05  8.55   8.61       9.09   -0.48    -5.28   \n",
      "\n",
      "           vol       amount  \n",
      "0    525152.77   460697.377  \n",
      "1    375356.33   326396.994  \n",
      "2    689845.58   603427.713  \n",
      "3    603378.21   535401.175  \n",
      "4   1140492.31  1008658.828  \n",
      "5    851296.70   744765.824  \n",
      "6    896862.02   803038.965  \n",
      "7   1409954.60  1255007.609  \n",
      "8    988282.69   852071.526  \n",
      "9    835768.77   722169.579  \n",
      "10   711153.37   617278.559  \n",
      "11  1274838.57  1096657.033  \n",
      "12  1315520.13  1158545.868  \n"
     ]
    },
    {
     "ename": "NameError",
     "evalue": "name 'jsonfy' is not defined",
     "output_type": "error",
     "traceback": [
      "\u001b[0;31m---------------------------------------------------------------------------\u001b[0m",
      "\u001b[0;31mNameError\u001b[0m                                 Traceback (most recent call last)",
      "Input \u001b[0;32mIn [9]\u001b[0m, in \u001b[0;36m<module>\u001b[0;34m\u001b[0m\n\u001b[1;32m      9\u001b[0m \u001b[38;5;66;03m#多个股票\u001b[39;00m\n\u001b[1;32m     10\u001b[0m df \u001b[38;5;241m=\u001b[39m pro\u001b[38;5;241m.\u001b[39mdaily(ts_code\u001b[38;5;241m=\u001b[39m\u001b[38;5;124m'\u001b[39m\u001b[38;5;124m000001.SZ,600000.SH\u001b[39m\u001b[38;5;124m'\u001b[39m, start_date\u001b[38;5;241m=\u001b[39m\u001b[38;5;124m'\u001b[39m\u001b[38;5;124m20180701\u001b[39m\u001b[38;5;124m'\u001b[39m, end_date\u001b[38;5;241m=\u001b[39m\u001b[38;5;124m'\u001b[39m\u001b[38;5;124m20180718\u001b[39m\u001b[38;5;124m'\u001b[39m)\n\u001b[0;32m---> 11\u001b[0m \u001b[38;5;28mprint\u001b[39m(\u001b[43mjsonfy\u001b[49m(df))\n",
      "\u001b[0;31mNameError\u001b[0m: name 'jsonfy' is not defined"
     ]
    }
   ],
   "source": [
    "import tushare as ts\n",
    "from flask import Flask\n",
    "from flask import jsonify\n",
    "import json\n",
    "\n",
    "ts.set_token('0d7b7606603fb941f80ddf91df39dce2306cd80b5309156a5077050f')\n",
    "pro = ts.pro_api()\n",
    "df = pro.daily(ts_code='000001.SZ', start_date='20180701', end_date='20180718')\n",
    "\n",
    "print(df)\n",
    "#多个股票\n",
    "df = pro.daily(ts_code='000001.SZ,600000.SH', start_date='20180701', end_date='20180718')\n",
    "print(jsonfy(df))"
   ]
  },
  {
   "cell_type": "code",
   "execution_count": null,
   "id": "b6554e7c-2cd6-498b-9c24-8da4e462a342",
   "metadata": {},
   "outputs": [],
   "source": []
  }
 ],
 "metadata": {
  "kernelspec": {
   "display_name": "Python 3 (ipykernel)",
   "language": "python",
   "name": "python3"
  },
  "language_info": {
   "codemirror_mode": {
    "name": "ipython",
    "version": 3
   },
   "file_extension": ".py",
   "mimetype": "text/x-python",
   "name": "python",
   "nbconvert_exporter": "python",
   "pygments_lexer": "ipython3",
   "version": "3.9.5"
  }
 },
 "nbformat": 4,
 "nbformat_minor": 5
}
